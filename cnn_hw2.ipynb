{
 "cells": [
  {
   "cell_type": "code",
   "execution_count": null,
   "metadata": {},
   "outputs": [],
   "source": [
    "import numpy as np\n",
    "import os\n",
    "import pickle as pk\n",
    "import pdb\n",
    "import time\n",
    "import cnn\n",
    "import tests\n",
    "from tests import TestIm2Col\n",
    "from numpy.testing import assert_allclose"
   ]
  },
  {
   "cell_type": "code",
   "execution_count": null,
   "metadata": {},
   "outputs": [],
   "source": [
    "with open('data.pkl', 'rb') as f:\n",
    "    data = pk.load(f)\n",
    "    train , test = data['train'] ,data['test']\n",
    "    \n",
    "data_train = train['data']\n",
    "labels_train = train['labels']\n",
    "\n",
    "data_test = test['data']\n",
    "labels_test = test['labels']\n",
    "\n",
    "\n",
    "##testing\n",
    "with open(\"tests.pk\",\"rb\") as f: tests = pk.load(f)\n",
    "im2col_input = tests['im2col_input']\n",
    "im2col_output = tests['im2col_output']\n",
    "test_imgs = tests[\"test_imgs\"]"
   ]
  },
  {
   "cell_type": "code",
   "execution_count": null,
   "metadata": {},
   "outputs": [],
   "source": [
    "def conv_kernel(input_shape,filter_shape):\n",
    "    X_shape = (filter_shape[0],input_shape[0],filter_shape[-1],filter_shape[-1])\n",
    "    num_channels = input_shape[0]\n",
    "    b = np.sqrt(6)/np.sqrt((filter_shape[0]+num_channels)*filter_shape[-1]*filter_shape[-1])\n",
    "    kernel = np.random.uniform(-b,b,X_shape)\n",
    "    return kernel"
   ]
  },
  {
   "cell_type": "code",
   "execution_count": null,
   "metadata": {},
   "outputs": [],
   "source": [
    "def im2col(X, k_height, k_width, padding=1, stride=1):\n",
    "\n",
    "    X_padded = np.pad(X, ((0, 0), (0, 0), (padding, padding), (padding, padding)))\n",
    "    N, C, H, W = X.shape\n",
    "    output_height = (H + 2 * padding - k_height) / stride + 1\n",
    "    output_width = (W + 2 * padding - k_width) / stride + 1\n",
    " \n",
    "    height_one = np.tile(np.repeat(np.arange(k_height),k_width),C).reshape(-1,1)\n",
    "    height_two = int(stride) * np.repeat(np.arange(int(output_height)), int(output_width))\n",
    "    rep_height = height_one + height_two\n",
    "\n",
    "    width_one = np.tile(np.arange(k_width), k_height * C).reshape(-1,1)\n",
    "    width_two = int(stride) * np.tile(np.arange(int(output_width)), int(output_height)).reshape(1,-1)\n",
    "    rep_width = width_one + width_two\n",
    "    \n",
    "    rep_depth = np.repeat(np.arange(C), k_height * k_width).reshape(-1, 1)\n",
    "\n",
    "    cols_one = X_padded[:, rep_depth, rep_height, rep_width]\n",
    "    cols_two = cols_one.transpose(1, 2, 0)\n",
    "    cols = cols_two.reshape(k_height * k_width * C, cols_one.shape[0]*cols_one.shape[-1])\n",
    "    return cols"
   ]
  },
  {
   "cell_type": "code",
   "execution_count": null,
   "metadata": {},
   "outputs": [],
   "source": [
    "def conv_forward(inputs,padding,stride):\n",
    "    filter_shape = (1,5,5)\n",
    "    input_shape = (3,32,32)\n",
    "    kernel = conv_kernel(input_shape,filter_shape)\n",
    "    cols = im2col(inputs, filter_shape[-1], filter_shape[-1], padding=2, stride=1)\n",
    "    kernel_reshape = np.reshape(kernel,(kernel.shape[0],kernel.shape[1]*kernel.shape[2]*kernel.shape[3]))\n",
    "    print(kernel_reshape.shape)\n",
    "    print(cols.shape)\n",
    "    conv_out = np.dot(kernel_reshape,cols)\n",
    "    print(conv_out.shape)\n",
    "    return conv_out\n",
    "  \n",
    "conv_out = conv_forward(test_imgs,padding=1,stride=2)\n"
   ]
  },
  {
   "cell_type": "code",
   "execution_count": null,
   "metadata": {},
   "outputs": [],
   "source": [
    "conv_out_reshape = np.reshape(conv_out,(2,1,32,32))\n",
    "print(conv_out_reshape.shape)"
   ]
  },
  {
   "cell_type": "code",
   "execution_count": null,
   "metadata": {},
   "outputs": [],
   "source": [
    "dloss_reshape = np.reshape(conv_out_reshape, (conv_out_reshape.shape[1],conv_out_reshape.shape[0]*conv_out_reshape.shape[-1]*conv_out_reshape.shape[-2]))"
   ]
  },
  {
   "cell_type": "code",
   "execution_count": null,
   "metadata": {},
   "outputs": [],
   "source": [
    "print(dloss_reshape.shape)"
   ]
  },
  {
   "cell_type": "code",
   "execution_count": null,
   "metadata": {},
   "outputs": [],
   "source": [
    "# test_imgs = tests[\"conv_out\"]\n",
    "# max_obj = cnn.MaxPool((2,2),2)\n",
    "# max_out = max_obj.forward(test_imgs)\n",
    "# assert_allclose(max_out,tests[\"max_out\"],atol=TOLERANCE)"
   ]
  },
  {
   "cell_type": "code",
   "execution_count": null,
   "metadata": {},
   "outputs": [],
   "source": [
    "import numpy as np\n",
    "import matplotlib.pyplot as plt\n",
    "\n",
    "train_loss_array_1a = np.load('train_loss_array_1a.npy')\n",
    "test_loss_array_1a = np.load('test_loss_array_1a.npy')\n",
    "\n",
    "train_accuracy_array_1a = np.load('train_accuracy_array_1a.npy')\n",
    "test_accuracy_array_1a = np.load('test_accuracy_array_1a.npy')\n",
    "\n",
    "file_name = 'plots/{}.png'\n",
    "\n",
    "plt.plot(np.arange(100)+1,train_loss_array_1a, label='Training Loss')\n",
    "plt.plot(np.arange(100)+1,test_loss_array_1a, label='Test Loss')\n",
    "plt.legend(loc='best')\n",
    "plt.title('Experiment 1a: Train and Test Loss Curves')\n",
    "plt.xlabel('Epochs')\n",
    "plt.ylabel('Loss')\n",
    "plt.savefig(file_name.format('Experiment_1a_loss'))\n",
    "plt.close()\n",
    "\n",
    "plt.plot(np.arange(100)+1,train_accuracy_array_1a, label='Training Accuracy')\n",
    "plt.plot(np.arange(100)+1,test_accuracy_array_1a, label='Test Accuracy')\n",
    "plt.legend(loc='best')\n",
    "plt.title('Experiment 1a: Train and Test Accuracy Curves')\n",
    "plt.xlabel('Epochs')\n",
    "plt.ylabel('Accuracy')\n",
    "plt.savefig(file_name.format('Experiment_1a_accuracy'))\n",
    "plt.close()"
   ]
  },
  {
   "cell_type": "code",
   "execution_count": null,
   "metadata": {},
   "outputs": [],
   "source": [
    "import numpy as np\n",
    "tr = np.load('arrays/train_accuracy_array_1a.npy')\n",
    "# print(tr)\n",
    "# print('>>>>>>>>>>>>>>>>>>>>>>>>>')\n",
    "tst = tr = np.load('arrays/test_accuracy_array_1a.npy')\n",
    "# print(tst)"
   ]
  },
  {
   "cell_type": "code",
   "execution_count": null,
   "metadata": {},
   "outputs": [],
   "source": [
    "train_accuracy_array_1b = np.load('train_accuracy_array_1b.npy')\n",
    "# print(tr_1b)\n",
    "# print('>>>>>>>>>>>>>>>>>>>>>>>>>')\n",
    "test_accuracy_array_1b = np.load('test_accuracy_array_1b.npy')\n",
    "# print(tst_1b)\n",
    "\n",
    "train_loss_array_1b = np.load('train_loss_array_1b.npy')\n",
    "test_loss_array_1b = np.load('test_loss_array_1b.npy')"
   ]
  },
  {
   "cell_type": "code",
   "execution_count": null,
   "metadata": {},
   "outputs": [],
   "source": [
    "import matplotlib.pyplot as plt\n",
    "file_name = 'plots/{}.png'\n",
    "plt.plot(np.arange(100)+1,train_loss_array_1b, label='Training Loss')\n",
    "plt.plot(np.arange(100)+1,test_loss_array_1b, label='Test Loss')\n",
    "plt.legend(loc='best')\n",
    "plt.title('Experiment 1b: Train and Test Loss Curves')\n",
    "plt.xlabel('Epochs')\n",
    "plt.ylabel('Loss')\n",
    "plt.savefig(file_name.format('Experiment_1b_loss'))\n",
    "plt.close()\n",
    "\n",
    "plt.plot(np.arange(100)+1,train_accuracy_array_1b, label='Training Accuracy')\n",
    "plt.plot(np.arange(100)+1,test_accuracy_array_1b, label='Test Accuracy')\n",
    "plt.legend(loc='best')\n",
    "plt.title('Experiment 1b: Train and Test Accuracy Curves')\n",
    "plt.xlabel('Epochs')\n",
    "plt.ylabel('Accuracy')\n",
    "plt.savefig(file_name.format('Experiment_1b_accuracy'))\n",
    "plt.close()\n"
   ]
  },
  {
   "cell_type": "code",
   "execution_count": null,
   "metadata": {},
   "outputs": [],
   "source": []
  }
 ],
 "metadata": {
  "kernelspec": {
   "display_name": "Python 3",
   "language": "python",
   "name": "python3"
  },
  "language_info": {
   "codemirror_mode": {
    "name": "ipython",
    "version": 3
   },
   "file_extension": ".py",
   "mimetype": "text/x-python",
   "name": "python",
   "nbconvert_exporter": "python",
   "pygments_lexer": "ipython3",
   "version": "3.7.4"
  }
 },
 "nbformat": 4,
 "nbformat_minor": 2
}
